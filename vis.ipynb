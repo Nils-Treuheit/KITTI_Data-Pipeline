{
 "cells": [
  {
   "cell_type": "code",
   "execution_count": 1,
   "metadata": {},
   "outputs": [
    {
     "name": "stdout",
     "output_type": "stream",
     "text": [
      "Found 7481 PoCl | 7481 Lbl | 7481 Cal Files!\n",
      "Min. Lbl. Location(x,y,z): [-44.03, -1.75, -2.14]\n",
      "Max. Lbl. Location(x,y,z): [40.06, 148.82, 5.93]\n",
      "Min. Lbl. Dimension(l,w,h): [0.2, 0.3, 0.76]\n",
      "Max. Lbl. Dimension(l,w,h): [35.24, 3.01, 4.2]\n",
      "Objects in area spanning from [-46.4, -11.78, -4.02] to [42.18, 164.49, 5.57]\n",
      "Points in area spanning from [-80.0, -80.33, -30.18, 0.0] to [79.99, 79.72, 8.21, 0.99]\n",
      "Minimal Area of Objects: [-46.4, -4.76, -4.02] to [42.18, 79.72, 5.57]\n",
      "Maximal Area of Objects: [-79.27, -11.78, -6.34] to [75.3, 79.72, 8.21]\n"
     ]
    }
   ],
   "source": [
    "from data_pipeline import get_analysis\n",
    "\n",
    "# Example usage\n",
    "pointcloud_folder = '/mnt/DATA/KITTI_Dataset/training/velodyne'\n",
    "label_folder = '/mnt/DATA/KITTI_Dataset/training/label_2'\n",
    "calib_folder = '/mnt/DATA/KITTI_Dataset/training/calib'\n",
    "\n",
    "minimal_area, maximal_area, _, _ = get_analysis(pointcloud_folder,label_folder,calib_folder)"
   ]
  },
  {
   "cell_type": "code",
   "execution_count": null,
   "metadata": {},
   "outputs": [
    {
     "data": {
      "application/vnd.jupyter.widget-view+json": {
       "model_id": "23ed57a0322c44af98a1180be2751462",
       "version_major": 2,
       "version_minor": 0
      },
      "text/plain": [
       "interactive(children=(IntSlider(value=0, description='File Index', max=7480), Output()), _dom_classes=('widget…"
      ]
     },
     "metadata": {},
     "output_type": "display_data"
    }
   ],
   "source": [
    "from visualize import visualize_point_cloud\n",
    "import numpy as np\n",
    "area_dims = np.array(minimal_area[1])-np.array(minimal_area[0])\n",
    "factor = 1/8\n",
    "visualize_point_cloud(pointcloud_folder,label_folder,calib_folder,minimal_area,[np.array(minimal_area[0])*factor,(minimal_area[0]+area_dims)*factor])"
   ]
  }
 ],
 "metadata": {
  "kernelspec": {
   "display_name": "pocl_vis",
   "language": "python",
   "name": "python3"
  },
  "language_info": {
   "codemirror_mode": {
    "name": "ipython",
    "version": 3
   },
   "file_extension": ".py",
   "mimetype": "text/x-python",
   "name": "python",
   "nbconvert_exporter": "python",
   "pygments_lexer": "ipython3",
   "version": "3.12.8"
  }
 },
 "nbformat": 4,
 "nbformat_minor": 2
}
