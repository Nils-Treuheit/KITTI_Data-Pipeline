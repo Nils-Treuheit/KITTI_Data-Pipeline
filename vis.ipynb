{
 "cells": [
  {
   "cell_type": "code",
   "execution_count": null,
   "metadata": {},
   "outputs": [
    {
     "name": "stdout",
     "output_type": "stream",
     "text": [
      "Min. Lbl. Location: [-44.03, -2.14, -3.55]\n",
      "Max. Lbl. Location: [40.06, 5.93, 146.85]\n",
      "Min. Lbl. Dimension: [0.76, 0.3, 0.2]\n",
      "Max. Lbl. Dimension: [4.2, 3.01, 35.24]\n",
      "Objects in area spanning from [-46.4, -11.78, -5.93] to [42.18, 164.49, 3.64]\n",
      "Points in area spanning from [-80.0, -80.33, -32.1, 0.0] to [79.99, 79.72, 4.17, 0.99]\n",
      "Minimal Area of Objects: [-44.03, -2.14, -3.55] to [40.06, 5.93, 3.64]\n",
      "Maximal Area of Objects: [-46.4, -11.78, -5.93] to [42.18, 79.72, 4.17]\n"
     ]
    }
   ],
   "source": [
    "from data_pipeline import get_analysis\n",
    "\n",
    "# Example usage\n",
    "pointcloud_folder = '/path/to/KITTI_Dataset/training/velodyne'\n",
    "label_folder = '/path/to/KITTI_Dataset/training/label_2'\n",
    "calib_folder = '/path/to/KITTI_Dataset/training/calib'\n",
    "\n",
    "minimal_area, maximal_area, _, _ = get_analysis(pointcloud_folder,label_folder,calib_folder)"
   ]
  },
  {
   "cell_type": "code",
   "execution_count": 2,
   "metadata": {},
   "outputs": [
    {
     "data": {
      "application/vnd.jupyter.widget-view+json": {
       "model_id": "aebc0734bd1b4e2fb07b4dcc5709305b",
       "version_major": 2,
       "version_minor": 0
      },
      "text/plain": [
       "interactive(children=(IntSlider(value=0, description='File Index', max=7480), Output()), _dom_classes=('widget…"
      ]
     },
     "metadata": {},
     "output_type": "display_data"
    }
   ],
   "source": [
    "from visualize import visualize_point_cloud\n",
    "visualize_point_cloud(pointcloud_folder,label_folder,calib_folder,minimal_area,maximal_area)"
   ]
  }
 ],
 "metadata": {
  "kernelspec": {
   "display_name": "pocl_vis",
   "language": "python",
   "name": "python3"
  },
  "language_info": {
   "codemirror_mode": {
    "name": "ipython",
    "version": 3
   },
   "file_extension": ".py",
   "mimetype": "text/x-python",
   "name": "python",
   "nbconvert_exporter": "python",
   "pygments_lexer": "ipython3",
   "version": "3.12.8"
  }
 },
 "nbformat": 4,
 "nbformat_minor": 2
}
